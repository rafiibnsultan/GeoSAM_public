{
 "cells": [
  {
   "cell_type": "code",
   "execution_count": 6,
   "metadata": {},
   "outputs": [],
   "source": [
    "# text embeding with clip\n",
    "import os\n",
    "import clip\n",
    "import torch\n",
    "\n",
    "device = \"cuda:0\" if torch.cuda.is_available() else \"cpu\"\n",
    "model, preprocess = clip.load('ViT-B/32', device)"
   ]
  },
  {
   "cell_type": "code",
   "execution_count": 7,
   "metadata": {},
   "outputs": [
    {
     "name": "stdout",
     "output_type": "stream",
     "text": [
      "Sidewalk and crosswalk: linear paths, zebra stripes.\n",
      "Roads: paved surfaces, vehicle lanes.\n",
      "torch.Size([2, 512]) torch.float16\n",
      "torch.Size([1, 2, 512])\n"
     ]
    }
   ],
   "source": [
    "classes = [\"Sidewalk and crosswalk\", \"Roads\"]\n",
    "details = [\"linear paths, zebra stripes.\", \"paved surfaces, vehicle lanes.\"]\n",
    "\n",
    "sentences = [f'{item}: {detail}' for item, detail in zip(classes, details)]\n",
    "for sentence in sentences:\n",
    "    print(sentence)\n",
    "\n",
    "txt_encoding = []\n",
    "with torch.no_grad():\n",
    "    \n",
    "    text_inputs = torch.cat([clip.tokenize(f'{item}: {detail}') for item, detail in zip(classes, details)]).to(device)\n",
    "    text_features = model.encode_text(text_inputs)\n",
    "    text_features /= text_features.norm(dim=-1, keepdim=True)\n",
    "\n",
    "    print(text_features.shape, text_features.dtype)\n",
    "    txt_encoding.append(text_features)\n",
    "\n",
    "mod_cls_txt_encoding = torch.stack(txt_encoding)\n",
    "print(mod_cls_txt_encoding.shape)\n",
    "torch.save(mod_cls_txt_encoding, 'mod_cls_txt_encoding.pth')"
   ]
  }
 ],
 "metadata": {
  "kernelspec": {
   "display_name": "tile",
   "language": "python",
   "name": "python3"
  },
  "language_info": {
   "codemirror_mode": {
    "name": "ipython",
    "version": 3
   },
   "file_extension": ".py",
   "mimetype": "text/x-python",
   "name": "python",
   "nbconvert_exporter": "python",
   "pygments_lexer": "ipython3",
   "version": "3.10.12"
  }
 },
 "nbformat": 4,
 "nbformat_minor": 2
}
